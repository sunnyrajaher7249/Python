{
 "cells": [
  {
   "cell_type": "markdown",
   "metadata": {},
   "source": [
    "# F string\n",
    "\n",
    "Definition: An f-string (formatted string) in Python is a way to embed expressions inside string literals using curly braces {}.\n",
    "\n",
    "Purpose: It simplifies string formatting by making it more readable and concise."
   ]
  },
  {
   "cell_type": "code",
   "execution_count": 5,
   "metadata": {},
   "outputs": [
    {
     "data": {
      "text/plain": [
       "'Hello sam, you are 45 year old'"
      ]
     },
     "execution_count": 5,
     "metadata": {},
     "output_type": "execute_result"
    }
   ],
   "source": [
    "name = \"sam\"\n",
    "age  = 45\n",
    "\n",
    "txt = f\"Hello {name}, you are {age} year old\"\n",
    "txt"
   ]
  },
  {
   "cell_type": "code",
   "execution_count": 3,
   "metadata": {},
   "outputs": [
    {
     "data": {
      "text/plain": [
       "'Hello the price only 78.46'"
      ]
     },
     "execution_count": 3,
     "metadata": {},
     "output_type": "execute_result"
    }
   ],
   "source": [
    "price = 78.45877\n",
    "\n",
    "txt = f\"Hello the price only {price:.2f}\"\n",
    "txt"
   ]
  },
  {
   "cell_type": "code",
   "execution_count": 8,
   "metadata": {},
   "outputs": [
    {
     "name": "stdout",
     "output_type": "stream",
     "text": [
      "The price of one apple is 10 rupees.\n"
     ]
    }
   ],
   "source": [
    "item = \"apple\"\n",
    "price = 10\n",
    "print(f\"The price of one {item} is {price} rupees.\")\n"
   ]
  },
  {
   "cell_type": "markdown",
   "metadata": {},
   "source": [
    "Advantages of f-Strings\n",
    "\n",
    "Readable and Concise: Easy to understand and write."
   ]
  },
  {
   "cell_type": "markdown",
   "metadata": {},
   "source": []
  }
 ],
 "metadata": {
  "kernelspec": {
   "display_name": "base",
   "language": "python",
   "name": "python3"
  },
  "language_info": {
   "codemirror_mode": {
    "name": "ipython",
    "version": 3
   },
   "file_extension": ".py",
   "mimetype": "text/x-python",
   "name": "python",
   "nbconvert_exporter": "python",
   "pygments_lexer": "ipython3",
   "version": "3.11.4"
  }
 },
 "nbformat": 4,
 "nbformat_minor": 2
}
