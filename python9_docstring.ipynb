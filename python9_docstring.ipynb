{
 "cells": [
  {
   "cell_type": "markdown",
   "metadata": {},
   "source": [
    "# What is a Docstring?\n",
    "Definition: A docstring (short for documentation string) is a special type of string used to describe a module, class, or function in Python.\n",
    "\n",
    "Purpose: Helps explain what a piece of code does, making it easier to understand and maintain.\n"
   ]
  },
  {
   "cell_type": "code",
   "execution_count": null,
   "metadata": {},
   "outputs": [],
   "source": [
    "def function_name():\n",
    "    \"\"\"\n",
    "    This is a docstring.\n",
    "    It explains what the function does.\n",
    "    \"\"\"\n",
    "    # Function code here\n",
    "\n",
    "\n",
    "# Docstrings are written using triple quotes (\"\"\" or ''').\n",
    "# They are the first statement inside a function, class, or module."
   ]
  },
  {
   "cell_type": "code",
   "execution_count": 2,
   "metadata": {},
   "outputs": [],
   "source": [
    "def square(a):\n",
    "\n",
    "    '''Takes in a number a, returns the square of a'''\n",
    "\n",
    "    print(a**2)"
   ]
  },
  {
   "cell_type": "code",
   "execution_count": 3,
   "metadata": {},
   "outputs": [
    {
     "name": "stdout",
     "output_type": "stream",
     "text": [
      "25\n"
     ]
    }
   ],
   "source": [
    "square(5)"
   ]
  },
  {
   "cell_type": "code",
   "execution_count": 9,
   "metadata": {},
   "outputs": [
    {
     "name": "stdout",
     "output_type": "stream",
     "text": [
      "25\n",
      "Takes in a number a, returns the square of a\n"
     ]
    }
   ],
   "source": [
    "# Accessing a Docstring\n",
    "# Use the __doc__ attribute to view a docstring.\n",
    "\n",
    "square(5)\n",
    "print(square.__doc__)"
   ]
  },
  {
   "cell_type": "markdown",
   "metadata": {},
   "source": [
    "Why Use Docstrings?\n",
    "* Improves Code Readability: Explains the purpose of code to other developers.\n",
    "* Helps in Maintenance: Makes future updates easier by providing context."
   ]
  },
  {
   "cell_type": "markdown",
   "metadata": {},
   "source": []
  }
 ],
 "metadata": {
  "kernelspec": {
   "display_name": "base",
   "language": "python",
   "name": "python3"
  },
  "language_info": {
   "codemirror_mode": {
    "name": "ipython",
    "version": 3
   },
   "file_extension": ".py",
   "mimetype": "text/x-python",
   "name": "python",
   "nbconvert_exporter": "python",
   "pygments_lexer": "ipython3",
   "version": "3.11.4"
  }
 },
 "nbformat": 4,
 "nbformat_minor": 2
}
