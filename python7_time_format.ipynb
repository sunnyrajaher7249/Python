{
 "cells": [
  {
   "cell_type": "code",
   "execution_count": 1,
   "metadata": {},
   "outputs": [
    {
     "data": {
      "text/plain": [
       "'22, 06,42'"
      ]
     },
     "execution_count": 1,
     "metadata": {},
     "output_type": "execute_result"
    }
   ],
   "source": [
    "import time\n",
    "time = time.strftime('%H, %M,%S')\n",
    "time"
   ]
  },
  {
   "cell_type": "code",
   "execution_count": 2,
   "metadata": {},
   "outputs": [
    {
     "name": "stdout",
     "output_type": "stream",
     "text": [
      "Good night\n"
     ]
    }
   ],
   "source": [
    "import time\n",
    "hour = int(time.strftime('%H'))\n",
    "#hour = int(input(\"Enter hour\"))\n",
    "\n",
    "if (hour >=0 and hour <=12):\n",
    "    print(\"Good morning\")\n",
    "elif (hour > 12 and hour <=17):\n",
    "    print(\"Good afternoon\")\n",
    "elif (hour >17 and hour <=19):\n",
    "    print(\"Good evening\")\n",
    "else:\n",
    "    print(\"Good night\")"
   ]
  },
  {
   "cell_type": "code",
   "execution_count": null,
   "metadata": {},
   "outputs": [],
   "source": []
  }
 ],
 "metadata": {
  "kernelspec": {
   "display_name": "base",
   "language": "python",
   "name": "python3"
  },
  "language_info": {
   "codemirror_mode": {
    "name": "ipython",
    "version": 3
   },
   "file_extension": ".py",
   "mimetype": "text/x-python",
   "name": "python",
   "nbconvert_exporter": "python",
   "pygments_lexer": "ipython3",
   "version": "3.11.4"
  }
 },
 "nbformat": 4,
 "nbformat_minor": 2
}
