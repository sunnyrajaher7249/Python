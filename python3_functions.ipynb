{
 "cells": [
  {
   "cell_type": "markdown",
   "metadata": {},
   "source": [
    "## Functions in python"
   ]
  },
  {
   "cell_type": "markdown",
   "metadata": {},
   "source": [
    "Functions in Python are like pre-written tools that make coding easier. Built-in functions are always available, and you don’t need to import anything to use them.\n",
    "\n",
    "\n",
    "Function is block of code that performs specific task whenever it is called, where we have large amounts of code , it use the existing functions that make the program flow organized and neat"
   ]
  },
  {
   "cell_type": "markdown",
   "metadata": {},
   "source": [
    "Built-In Function = these functions are defined and pre coded in python \n",
    "example = min(), max(), sum(), type(), print(), list(), tuple() etc\n",
    "\n",
    "\n",
    "User define fun = We can create fun to perform specific task as per our need\n"
   ]
  },
  {
   "cell_type": "code",
   "execution_count": 17,
   "metadata": {},
   "outputs": [
    {
     "name": "stdout",
     "output_type": "stream",
     "text": [
      "6\n"
     ]
    }
   ],
   "source": [
    "# Built in fun\n",
    "\n",
    "word = \"Python\"\n",
    "print(len(word))"
   ]
  },
  {
   "cell_type": "code",
   "execution_count": 18,
   "metadata": {},
   "outputs": [
    {
     "name": "stdout",
     "output_type": "stream",
     "text": [
      "Hello sunny\n"
     ]
    }
   ],
   "source": [
    "name = input(\"Enter your name\")\n",
    "\n",
    "print(\"Hello\", name)"
   ]
  },
  {
   "cell_type": "code",
   "execution_count": 22,
   "metadata": {},
   "outputs": [
    {
     "name": "stdout",
     "output_type": "stream",
     "text": [
      "15\n",
      "5\n",
      "1\n"
     ]
    }
   ],
   "source": [
    "number = [1,2,3,4,5]\n",
    "print(sum(number))\n",
    "print(max(number))\n",
    "print(min(number))"
   ]
  },
  {
   "cell_type": "code",
   "execution_count": 2,
   "metadata": {},
   "outputs": [],
   "source": [
    "# User define fun\n",
    "def simple_fun():\n",
    "    print(\"This is my function\")"
   ]
  },
  {
   "cell_type": "code",
   "execution_count": 3,
   "metadata": {},
   "outputs": [
    {
     "name": "stdout",
     "output_type": "stream",
     "text": [
      "This is my function\n"
     ]
    }
   ],
   "source": [
    "simple_fun()"
   ]
  },
  {
   "cell_type": "code",
   "execution_count": 1,
   "metadata": {},
   "outputs": [
    {
     "name": "stdout",
     "output_type": "stream",
     "text": [
      "3.3333333333333335\n"
     ]
    }
   ],
   "source": [
    "# User define fun = We can create fun to perform specific task as per our need\n",
    "\n",
    "a = 5\n",
    "b = 10\n",
    "gmean = (a*b)/(a+b)\n",
    "print(gmean)"
   ]
  },
  {
   "cell_type": "code",
   "execution_count": 2,
   "metadata": {},
   "outputs": [
    {
     "name": "stdout",
     "output_type": "stream",
     "text": [
      "2.2222222222222223\n"
     ]
    }
   ],
   "source": [
    "c = 4\n",
    "d = 5\n",
    "gmean = (c*d)/(c+d)\n",
    "print(gmean)"
   ]
  },
  {
   "cell_type": "code",
   "execution_count": 15,
   "metadata": {},
   "outputs": [],
   "source": [
    "def calculateGmean(a,b):\n",
    "    mean = (a*b)/(a+b)\n",
    "    print(\"The gemean is\", mean)"
   ]
  },
  {
   "cell_type": "code",
   "execution_count": 4,
   "metadata": {},
   "outputs": [
    {
     "name": "stdout",
     "output_type": "stream",
     "text": [
      "3.3333333333333335\n"
     ]
    }
   ],
   "source": [
    "calculateGmean(a,b)"
   ]
  },
  {
   "cell_type": "code",
   "execution_count": 8,
   "metadata": {},
   "outputs": [
    {
     "name": "stdout",
     "output_type": "stream",
     "text": [
      "13.043478260869565\n"
     ]
    }
   ],
   "source": [
    "e = 100\n",
    "f = 15\n",
    "calculateGmean(e,f)"
   ]
  },
  {
   "cell_type": "code",
   "execution_count": 9,
   "metadata": {},
   "outputs": [
    {
     "name": "stdout",
     "output_type": "stream",
     "text": [
      "First number is greater\n",
      "13.043478260869565\n"
     ]
    }
   ],
   "source": [
    "#now you want to print the which number is greater \n",
    "\n",
    "if(e>f):\n",
    "    print(\"First number is greater\")\n",
    "else:\n",
    "    print(\"Second number is greater\")\n",
    "\n",
    "calculateGmean(e,f)\n"
   ]
  },
  {
   "cell_type": "code",
   "execution_count": 11,
   "metadata": {},
   "outputs": [],
   "source": [
    "def isgreater(e,f):\n",
    "    if(e>f):\n",
    "        print(\"First number is greater\")\n",
    "    else:\n",
    "        print(\"Second number is greater\")"
   ]
  },
  {
   "cell_type": "code",
   "execution_count": 16,
   "metadata": {},
   "outputs": [
    {
     "name": "stdout",
     "output_type": "stream",
     "text": [
      "First number is greater\n",
      "The gemean is 13.043478260869565\n"
     ]
    }
   ],
   "source": [
    "isgreater(e,f)\n",
    "calculateGmean(e,f)"
   ]
  },
  {
   "cell_type": "code",
   "execution_count": 4,
   "metadata": {},
   "outputs": [],
   "source": [
    "# multiplication fun\n",
    "\n",
    "def multiplication(x,y):\n",
    "    print(x*y)"
   ]
  },
  {
   "cell_type": "code",
   "execution_count": 6,
   "metadata": {},
   "outputs": [
    {
     "name": "stdout",
     "output_type": "stream",
     "text": [
      "40\n"
     ]
    }
   ],
   "source": [
    "multiplication(5,8)"
   ]
  },
  {
   "cell_type": "code",
   "execution_count": null,
   "metadata": {},
   "outputs": [],
   "source": []
  }
 ],
 "metadata": {
  "kernelspec": {
   "display_name": "base",
   "language": "python",
   "name": "python3"
  },
  "language_info": {
   "codemirror_mode": {
    "name": "ipython",
    "version": 3
   },
   "file_extension": ".py",
   "mimetype": "text/x-python",
   "name": "python",
   "nbconvert_exporter": "python",
   "pygments_lexer": "ipython3",
   "version": "3.11.3"
  }
 },
 "nbformat": 4,
 "nbformat_minor": 2
}
