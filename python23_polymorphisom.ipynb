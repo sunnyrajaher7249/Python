{
 "cells": [
  {
   "cell_type": "markdown",
   "id": "ac684cd5-5b9a-4df1-9b00-7f46c2f07485",
   "metadata": {},
   "source": [
    "# method overoading"
   ]
  },
  {
   "cell_type": "code",
   "execution_count": 2,
   "id": "a4a047a9-5e5e-4ace-babb-7abaece91e1e",
   "metadata": {},
   "outputs": [
    {
     "name": "stdout",
     "output_type": "stream",
     "text": [
      "Hello, This is Python Polymorphism\n",
      "Thanks for Visiting\n",
      "Factorial of 5 is: 120\n",
      "Addition is: 112\n"
     ]
    }
   ],
   "source": [
    "class VIP:\n",
    "    def vsp(self, x=None, y=None):   \n",
    "        if x is None and y is None:\n",
    "            print(\"Hello, This is Python Polymorphism\")\n",
    "            print(\"Thanks for Visiting\")\n",
    "        elif x is not None and y is None:\n",
    "            f = 1\n",
    "            for i in range(1, x + 1):\n",
    "                f *= i\n",
    "            print(\"Factorial of\", x, \"is:\", f)\n",
    "        else:\n",
    "            print(\"Addition is:\", x + y)\n",
    "\n",
    "# Creating an object\n",
    "ob = VIP()\n",
    "\n",
    "# Calling the method in different ways (Polymorphism)\n",
    "ob.vsp()          # Calls the first condition (prints a message)\n",
    "ob.vsp(5)         # Calls the second condition (calculates factorial)\n",
    "ob.vsp(45, 67)    # Calls the third condition (performs addition)\n"
   ]
  },
  {
   "cell_type": "markdown",
   "id": "810d5286-1c4f-4934-af6c-9761ffeae1de",
   "metadata": {},
   "source": [
    "# Method Overriding"
   ]
  },
  {
   "cell_type": "code",
   "execution_count": 3,
   "id": "1f7170c0-8e43-4ace-9a55-d9882e914154",
   "metadata": {},
   "outputs": [
    {
     "name": "stdout",
     "output_type": "stream",
     "text": [
      "hi\n"
     ]
    }
   ],
   "source": [
    "class A:\n",
    "    def vsp(self):\n",
    "        print(\"hi\")\n",
    "\n",
    "class B(A):  # Inheriting class A\n",
    "    def vsp(self):  # Method Overriding\n",
    "        print(\"hello\")\n",
    "\n",
    "    def xyz(self):  # New method in class B\n",
    "        print(\"Tata Bye\")\n",
    "\n",
    "# Creating an object of class A\n",
    "ob = A()\n",
    "ob.vsp()  # Calls the vsp() method of class A\n"
   ]
  },
  {
   "cell_type": "code",
   "execution_count": 5,
   "id": "1ca816aa-f8b2-49b3-b36b-5f6da6c20616",
   "metadata": {},
   "outputs": [
    {
     "name": "stdout",
     "output_type": "stream",
     "text": [
      "hello\n"
     ]
    }
   ],
   "source": [
    "ob = B()\n",
    "ob.vsp()"
   ]
  },
  {
   "cell_type": "markdown",
   "id": "6845b938-243c-494d-9f95-a564a878708b",
   "metadata": {},
   "source": [
    "Key Concepts in This Code\n",
    "\n",
    "✅ 1. Inheritance\n",
    "Class B inherits all properties and methods of class A.\n",
    "\n",
    "✅ 2. Method Overriding (Polymorphism)\n",
    "Even though B inherits vsp() from A, it overrides it with a new definition.\n",
    "When calling vsp() using an object of B, the overridden version in B runs instead of A's version."
   ]
  },
  {
   "cell_type": "markdown",
   "id": "b31bf4af-4ea0-4fee-b4fc-d9a4e929101a",
   "metadata": {},
   "source": [
    "🟢 Polymorphism in Action\n",
    "\n",
    "Same method name (vsp) behaves differently in different classes (A and B).\n",
    "This is an example of runtime polymorphism (method overriding)."
   ]
  },
  {
   "cell_type": "markdown",
   "id": "ee92e737-0084-40bd-9f9d-1ee0e3c0084b",
   "metadata": {},
   "source": [
    "# Operator Overloading\n"
   ]
  },
  {
   "cell_type": "code",
   "execution_count": 8,
   "id": "80b8c17e-b12c-4f34-a75e-a57e5d0c57b4",
   "metadata": {},
   "outputs": [
    {
     "name": "stdout",
     "output_type": "stream",
     "text": [
      "30\n"
     ]
    }
   ],
   "source": [
    "class A:\n",
    "    def xyz(self, x):  \n",
    "        self.x = x\n",
    "\n",
    "    def __add__(self, other):  # Overloading the + operator\n",
    "        return (self.x + other.x)  # Returns a new object\n",
    "\n",
    "    #def __str__(self):  # String representation for printing\n",
    "        #return str(self.x)\n",
    "\n",
    "# Creating objects with values\n",
    "obj1 = A()  \n",
    "obj1.xyz(10)\n",
    "\n",
    "obj2 = A()\n",
    "obj2.xyz(20)\n",
    "\n",
    "# Adding two objects using +\n",
    "result = obj1 + obj2  # Calls __add__()\n",
    "\n",
    "print(result)  # Output: 30\n"
   ]
  },
  {
   "cell_type": "code",
   "execution_count": 10,
   "id": "ca2b5d6b-5036-4244-86f8-26b1ab61146f",
   "metadata": {},
   "outputs": [
    {
     "name": "stdout",
     "output_type": "stream",
     "text": [
      "30\n"
     ]
    }
   ],
   "source": [
    "class A:\n",
    "    def __init__(self, x):  # Constructor\n",
    "        self.x = x\n",
    "\n",
    "    def __add__(self, other):  # Overloading the + operator\n",
    "        return self.x + other.x  # Returns a new object\n",
    "\n",
    "\n",
    "# Creating objects\n",
    "obj1 = A(10)  \n",
    "obj2 = A(20)  \n",
    "\n",
    "# Adding objects\n",
    "result = obj1 + obj2  # Calls __add__()\n",
    "\n",
    "print(result)  # Output: 30\n"
   ]
  },
  {
   "cell_type": "code",
   "execution_count": null,
   "id": "ebf89fbf-4483-4440-b0c1-f020657584c2",
   "metadata": {},
   "outputs": [],
   "source": []
  }
 ],
 "metadata": {
  "kernelspec": {
   "display_name": "Python 3 (ipykernel)",
   "language": "python",
   "name": "python3"
  },
  "language_info": {
   "codemirror_mode": {
    "name": "ipython",
    "version": 3
   },
   "file_extension": ".py",
   "mimetype": "text/x-python",
   "name": "python",
   "nbconvert_exporter": "python",
   "pygments_lexer": "ipython3",
   "version": "3.10.9"
  }
 },
 "nbformat": 4,
 "nbformat_minor": 5
}
