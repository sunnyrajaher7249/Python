{
 "cells": [
  {
   "cell_type": "markdown",
   "metadata": {},
   "source": [
    "# Inheritance in python\n",
    "When a class derives from another class. The child class will inherit all the public and protected properties and methods from the parent class. In addition, it can have its own properties and methods,this is called as inheritance."
   ]
  },
  {
   "cell_type": "code",
   "execution_count": 3,
   "metadata": {},
   "outputs": [],
   "source": [
    "class Employee:\n",
    "    def __init__(self, name, id):  \n",
    "        self.name= name\n",
    "        self.id = id\n",
    "\n",
    "    def showDetails(self):\n",
    "        print(f\"The name of employee : {self.id} is {self.name}\")"
   ]
  },
  {
   "cell_type": "code",
   "execution_count": 10,
   "metadata": {},
   "outputs": [
    {
     "name": "stdout",
     "output_type": "stream",
     "text": [
      "The name of employee : 500 is sunny\n",
      "The name of employee : 600 is raj\n"
     ]
    }
   ],
   "source": [
    "e = Employee(\"sunny\", 500)\n",
    "e.showDetails()\n",
    "e2 = Employee(\"raj\", 600)\n",
    "e2.showDetails()"
   ]
  },
  {
   "cell_type": "markdown",
   "metadata": {},
   "source": [
    "suppose if you want to change the name of class, you can not change it.  if you change it, then wherever you used that class it throwing an error once you change the name of class\n",
    "\n",
    "so renaming is not an option,  so we do is inheritance, \n",
    "so I will create a new class called programmer"
   ]
  },
  {
   "cell_type": "code",
   "execution_count": 11,
   "metadata": {},
   "outputs": [],
   "source": [
    "class Employee:\n",
    "    def __init__(self, name, id):  \n",
    "        self.name= name\n",
    "        self.id = id\n",
    "\n",
    "    def showDetails(self):\n",
    "        print(f\"The name of employee : {self.id} is {self.name}\")\n",
    "\n",
    "class Programmer(Employee):\n",
    "    def showLanguage(self):\n",
    "        print(\"The default language is python\")"
   ]
  },
  {
   "cell_type": "code",
   "execution_count": 22,
   "metadata": {},
   "outputs": [
    {
     "name": "stdout",
     "output_type": "stream",
     "text": [
      "The name of employee : 100 is sunny\n",
      "The default language is python\n"
     ]
    }
   ],
   "source": [
    "e = Employee(\"sunny\", 100)\n",
    "e.showDetails()\n",
    "\n",
    "e2 = Programmer(\"raj\", 200)\n",
    "e2.showLanguage()"
   ]
  },
  {
   "cell_type": "code",
   "execution_count": null,
   "metadata": {},
   "outputs": [],
   "source": []
  },
  {
   "cell_type": "code",
   "execution_count": null,
   "metadata": {},
   "outputs": [],
   "source": []
  }
 ],
 "metadata": {
  "kernelspec": {
   "display_name": "base",
   "language": "python",
   "name": "python3"
  },
  "language_info": {
   "codemirror_mode": {
    "name": "ipython",
    "version": 3
   },
   "file_extension": ".py",
   "mimetype": "text/x-python",
   "name": "python",
   "nbconvert_exporter": "python",
   "pygments_lexer": "ipython3",
   "version": "3.11.4"
  }
 },
 "nbformat": 4,
 "nbformat_minor": 2
}
