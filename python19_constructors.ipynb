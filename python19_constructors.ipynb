{
 "cells": [
  {
   "cell_type": "markdown",
   "metadata": {},
   "source": [
    "# Constructors\n",
    "+ A constructor is a special method in a class used to create and initialize an object of a class. There are different types of constructors. Constructor is invoked automatically when an object of a class is created.\n",
    "\n",
    "+ A constructor is a unique function that gets called automatically when an object is created of a class. The main purpose of a constructor is to initialize or assign values to the data members of that class. It cannot return any value other than None."
   ]
  },
  {
   "cell_type": "code",
   "execution_count": 16,
   "metadata": {},
   "outputs": [],
   "source": [
    "class Person:\n",
    "    name = \"Sam\"\n",
    "    occ = \"Developer\"\n",
    "\n",
    "    def details(self):\n",
    "        print(f\"{self.name} is a {self.occ}\")"
   ]
  },
  {
   "cell_type": "code",
   "execution_count": 17,
   "metadata": {},
   "outputs": [],
   "source": [
    "a = Person()"
   ]
  },
  {
   "cell_type": "code",
   "execution_count": 18,
   "metadata": {},
   "outputs": [
    {
     "name": "stdout",
     "output_type": "stream",
     "text": [
      "Sam is a Developer\n"
     ]
    }
   ],
   "source": [
    "a.details()"
   ]
  },
  {
   "cell_type": "code",
   "execution_count": 19,
   "metadata": {},
   "outputs": [
    {
     "name": "stdout",
     "output_type": "stream",
     "text": [
      "Raj is a HR\n"
     ]
    }
   ],
   "source": [
    "a.name = \"Raj\"\n",
    "a.occ = \"HR\"\n",
    "a.details()\n"
   ]
  },
  {
   "cell_type": "code",
   "execution_count": 20,
   "metadata": {},
   "outputs": [],
   "source": [
    "# Why i am giving sam and developer at the beginning, so I need a way from which I can pass this information to this class conveniently"
   ]
  },
  {
   "cell_type": "code",
   "execution_count": 21,
   "metadata": {},
   "outputs": [],
   "source": [
    "class Person:\n",
    "\n",
    "    def __init__(self):    # this is the syntax to create a consructor.\n",
    "        print(\"Hey I am a person\")\n",
    "\n",
    "    def details(self):\n",
    "        print(f\"{self.name} is a {self.occ}\")"
   ]
  },
  {
   "cell_type": "code",
   "execution_count": null,
   "metadata": {},
   "outputs": [
    {
     "name": "stdout",
     "output_type": "stream",
     "text": [
      "Hey I am a person\n"
     ]
    }
   ],
   "source": [
    "a = Person()  # this means that the constructer is called whenever i am making object\n",
    "\n",
    "# this means that this particular method(constructor) is invoked/called whenever a new object is being created"
   ]
  },
  {
   "cell_type": "code",
   "execution_count": 23,
   "metadata": {},
   "outputs": [
    {
     "name": "stdout",
     "output_type": "stream",
     "text": [
      "Hey I am a person\n"
     ]
    }
   ],
   "source": [
    "b= Person()"
   ]
  },
  {
   "cell_type": "code",
   "execution_count": 26,
   "metadata": {},
   "outputs": [],
   "source": [
    "class Person:\n",
    "\n",
    "    def __init__(self, name, occ):\n",
    "        print(\"Hey I am a person\")\n",
    "        self.name = name\n",
    "        self.occ = occ\n",
    "\n",
    "    def details(self):\n",
    "        print(f\"{self.name} is a {self.occ}\")\n"
   ]
  },
  {
   "cell_type": "code",
   "execution_count": 34,
   "metadata": {},
   "outputs": [
    {
     "name": "stdout",
     "output_type": "stream",
     "text": [
      "Hey I am a person\n",
      "Hey I am a person\n"
     ]
    }
   ],
   "source": [
    "a =Person(\"Sam\", \"Developer\")\n",
    "b = Person(\"Raj\", \"HR\")\n",
    "#c = Person()"
   ]
  },
  {
   "cell_type": "code",
   "execution_count": 36,
   "metadata": {},
   "outputs": [
    {
     "name": "stdout",
     "output_type": "stream",
     "text": [
      "Sam is a Developer\n",
      "Raj is a HR\n"
     ]
    }
   ],
   "source": [
    "a.details()\n",
    "b.details()\n"
   ]
  },
  {
   "cell_type": "markdown",
   "metadata": {},
   "source": [
    "init is one of the reserved functions in Python. In Object Oriented Programming, it is known as a constructor.\n",
    "\n"
   ]
  },
  {
   "cell_type": "markdown",
   "metadata": {},
   "source": [
    "# Types of Constructors in Python\n",
    "+ Parameterized Constructor\n",
    "+ Default Constructor\n",
    "\n",
    "+ Parameterized Constructor in Python\n",
    "When the constructor accepts arguments along with self, it is known as parameterized constructor.\n",
    "\n",
    "These arguments can be used inside the class to assign the values to the data members."
   ]
  },
  {
   "cell_type": "markdown",
   "metadata": {},
   "source": [
    "+ Default Constructor in Python\n",
    "\n",
    "\n",
    "When the constructor doesn't accept any arguments from the object and has only one argument, self, in the constructor, it is known as a Default constructor."
   ]
  },
  {
   "cell_type": "markdown",
   "metadata": {},
   "source": []
  },
  {
   "cell_type": "code",
   "execution_count": 37,
   "metadata": {},
   "outputs": [],
   "source": [
    "class Details:\n",
    "    def __init__(self):\n",
    "        print(\"Hey this is my details \")\n",
    "\n"
   ]
  },
  {
   "cell_type": "code",
   "execution_count": 40,
   "metadata": {},
   "outputs": [
    {
     "name": "stdout",
     "output_type": "stream",
     "text": [
      "Hey this is my details \n"
     ]
    }
   ],
   "source": [
    "obj = Details()"
   ]
  },
  {
   "cell_type": "code",
   "execution_count": null,
   "metadata": {},
   "outputs": [],
   "source": []
  }
 ],
 "metadata": {
  "kernelspec": {
   "display_name": "base",
   "language": "python",
   "name": "python3"
  },
  "language_info": {
   "codemirror_mode": {
    "name": "ipython",
    "version": 3
   },
   "file_extension": ".py",
   "mimetype": "text/x-python",
   "name": "python",
   "nbconvert_exporter": "python",
   "pygments_lexer": "ipython3",
   "version": "3.11.4"
  }
 },
 "nbformat": 4,
 "nbformat_minor": 2
}
