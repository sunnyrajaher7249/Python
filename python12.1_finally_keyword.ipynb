{
 "cells": [
  {
   "cell_type": "markdown",
   "metadata": {},
   "source": [
    "# Finally Clause\n",
    "\n",
    "+ The finally code block is also a part of exception handling. When we handle exception using the try and except block, we can include a finally block at the end. The finally block is always executed, so it is generally used for doing the concluding tasks like closing file resources or closing database connection or may be ending the program execution with a delightful message."
   ]
  },
  {
   "cell_type": "code",
   "execution_count": null,
   "metadata": {},
   "outputs": [
    {
     "name": "stdout",
     "output_type": "stream",
     "text": [
      "2\n",
      "I am always executed\n"
     ]
    }
   ],
   "source": [
    "try:\n",
    "\n",
    "    l = [1,2,3,4]\n",
    "    i = int(input(\"Enter your index\"))\n",
    "\n",
    "    print(l[i])\n",
    "\n",
    "except:\n",
    "    print(\"some error occured\")\n",
    "\n",
    "finally:\n",
    "    print(\"I am always executed\")\n",
    "#print(\"I am always executed\")\n",
    "\n",
    "\n",
    "# Note - The above statement is always executing with print fun, then what is the difference , so I will tell you ,lets wrapp up this above in one fun"
   ]
  },
  {
   "cell_type": "code",
   "execution_count": 13,
   "metadata": {},
   "outputs": [
    {
     "name": "stdout",
     "output_type": "stream",
     "text": [
      "2\n",
      "1\n"
     ]
    }
   ],
   "source": [
    "def fun():\n",
    "\n",
    "    try:\n",
    "\n",
    "        l = [1,2,3,4]\n",
    "        i = int(input(\"Enter your index\"))\n",
    "\n",
    "        print(l[i])\n",
    "        return 1\n",
    "    except:\n",
    "        print(\"some error occured\")\n",
    "        return 0\n",
    "\n",
    "    # finally:\n",
    "    #     print(\"I am always executed\")\n",
    "    print(\"I am always executed\")\n",
    "\n",
    "x = fun()\n",
    "print(x)"
   ]
  },
  {
   "cell_type": "code",
   "execution_count": null,
   "metadata": {},
   "outputs": [],
   "source": []
  }
 ],
 "metadata": {
  "kernelspec": {
   "display_name": "base",
   "language": "python",
   "name": "python3"
  },
  "language_info": {
   "codemirror_mode": {
    "name": "ipython",
    "version": 3
   },
   "file_extension": ".py",
   "mimetype": "text/x-python",
   "name": "python",
   "nbconvert_exporter": "python",
   "pygments_lexer": "ipython3",
   "version": "3.11.4"
  }
 },
 "nbformat": 4,
 "nbformat_minor": 2
}
