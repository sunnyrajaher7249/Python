{
 "cells": [
  {
   "cell_type": "markdown",
   "id": "831cbafb-e2b6-427c-a475-a1a0f5df207f",
   "metadata": {},
   "source": [
    "### Logging in Python is essential for tracking events, debugging issues, and monitoring the behavior of an application.\n",
    "\n",
    "\n",
    "Introduction to Logging in Python\n",
    "Logging is a way to track events while a program is running. It helps in debugging, troubleshooting, and monitoring applications without using print statements.\n",
    "\n",
    "Why Use Logging Instead of Print?\n",
    "Control: Logging allows setting different severity levels (e.g., info, warning, error).\n",
    "\n",
    "Customization: You can format logs, save them to files, or send them to monitoring tools.\n",
    "\n",
    "Performance: Unlike print statements, logging can be turned off or redirected without changing the code."
   ]
  },
  {
   "cell_type": "code",
   "execution_count": 5,
   "id": "27f41a3a-3f38-4595-b3b6-a8af65b1d041",
   "metadata": {},
   "outputs": [
    {
     "name": "stderr",
     "output_type": "stream",
     "text": [
      "DEBUG:root:This is a debug message\n",
      "INFO:root:Module 2 got completed and Module 3 started\n",
      "WARNING:root:The warning message is displaying\n",
      "ERROR:root:The error message is displaying\n",
      "CRITICAL:root:The critical message is displaying\n"
     ]
    }
   ],
   "source": [
    "import logging\n",
    "\n",
    "# Set logging level to DEBUG so all levels will be displayed\n",
    "\n",
    "logging.debug(\"This is a debug message\")  # Level 10\n",
    "logging.info(\"Module 2 got completed and Module 3 started\")  # Level 20\n",
    "logging.warning(\"The warning message is displaying\")  # Level 30\n",
    "logging.error(\"The error message is displaying\")  # Level 40\n",
    "logging.critical(\"The critical message is displaying\")  # Level 50\n"
   ]
  },
  {
   "cell_type": "code",
   "execution_count": 15,
   "id": "ccea0f42-189b-435f-aaa1-375da4c51313",
   "metadata": {},
   "outputs": [
    {
     "name": "stderr",
     "output_type": "stream",
     "text": [
      "DEBUG:root:This is a debug message\n",
      "INFO:root:Module 2 got completed and Module 3 started\n",
      "WARNING:root:The warning message is displaying\n",
      "ERROR:root:The error message is displaying\n",
      "CRITICAL:root:The critical message is displaying\n"
     ]
    },
    {
     "name": "stdout",
     "output_type": "stream",
     "text": [
      "Logs have been saved to app.log\n"
     ]
    }
   ],
   "source": [
    "import logging\n",
    "\n",
    "# Set logging level to DEBUG so all levels will be displayed\n",
    "logging.basicConfig(filename= \"app.log\", level=logging.DEBUG)\n",
    "\n",
    "logging.debug(\"This is a debug message\")  # Level 10\n",
    "logging.info(\"Module 2 got completed and Module 3 started\")  # Level 20\n",
    "logging.warning(\"The warning message is displaying\")  # Level 30\n",
    "logging.error(\"The error message is displaying\")  # Level 40\n",
    "logging.critical(\"The critical message is displaying\")  # Level 50\n",
    "\n",
    "\n",
    "print(\"Logs have been saved to app.log\")\n"
   ]
  },
  {
   "cell_type": "code",
   "execution_count": null,
   "id": "a4a77efa-15a9-4c1f-99dc-d30c5aba1112",
   "metadata": {},
   "outputs": [],
   "source": []
  }
 ],
 "metadata": {
  "kernelspec": {
   "display_name": "Python 3 (ipykernel)",
   "language": "python",
   "name": "python3"
  },
  "language_info": {
   "codemirror_mode": {
    "name": "ipython",
    "version": 3
   },
   "file_extension": ".py",
   "mimetype": "text/x-python",
   "name": "python",
   "nbconvert_exporter": "python",
   "pygments_lexer": "ipython3",
   "version": "3.10.9"
  }
 },
 "nbformat": 4,
 "nbformat_minor": 5
}
