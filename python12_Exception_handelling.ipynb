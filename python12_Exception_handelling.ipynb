{
 "cells": [
  {
   "cell_type": "markdown",
   "metadata": {},
   "source": [
    "# Exceptional Handelling"
   ]
  },
  {
   "cell_type": "markdown",
   "metadata": {},
   "source": [
    "* What is Exception Handling?\n",
    "Definition: Exception handling is a mechanism to manage errors or exceptions that occur during program execution, ensuring the program doesn’t crash abruptly.\n",
    "\n",
    "* Exception handelling is the process of responding to unwanted or unexpected events when a computer program run. Exception handelling deals with these events to avoid the program or system crashing, and with out these process, exceptions would disrupts the normal operation of a program.\n",
    "\n",
    "* Exeptions in Python = Python has many biltin exceptions that are raised when your program encounters an erroe (something in program goes wrong)\n",
    "\n",
    "when these exception occurs. the python interpreter stops the current process and passes it to the calling process until it is handled, If not handled the program will crash.\n",
    "\n",
    "* so basically..try..except blocks  are used in python to handle errors and exceptions, the code in try block runs and when there is no errors, If the try.. block catches the error then the except block is executed.\n",
    "\n",
    "* Purpose:\n",
    "To handle runtime errors gracefully.\n",
    "To provide meaningful feedback to users or developers."
   ]
  },
  {
   "cell_type": "code",
   "execution_count": 4,
   "metadata": {},
   "outputs": [
    {
     "ename": "ValueError",
     "evalue": "invalid literal for int() with base 10: 'fdfv'",
     "output_type": "error",
     "traceback": [
      "\u001b[1;31m---------------------------------------------------------------------------\u001b[0m",
      "\u001b[1;31mValueError\u001b[0m                                Traceback (most recent call last)",
      "Cell \u001b[1;32mIn[4], line 1\u001b[0m\n\u001b[1;32m----> 1\u001b[0m a \u001b[38;5;241m=\u001b[39m \u001b[38;5;28;43mint\u001b[39;49m\u001b[43m(\u001b[49m\u001b[38;5;28;43minput\u001b[39;49m\u001b[43m(\u001b[49m\u001b[38;5;124;43m\"\u001b[39;49m\u001b[38;5;124;43mEnter your number\u001b[39;49m\u001b[38;5;124;43m\"\u001b[39;49m\u001b[43m)\u001b[49m\u001b[43m)\u001b[49m\n\u001b[0;32m      3\u001b[0m \u001b[38;5;28mprint\u001b[39m(\u001b[38;5;124mf\u001b[39m\u001b[38;5;124m\"\u001b[39m\u001b[38;5;124mMultiplication table of \u001b[39m\u001b[38;5;132;01m{\u001b[39;00ma\u001b[38;5;132;01m}\u001b[39;00m\u001b[38;5;124m is:\u001b[39m\u001b[38;5;124m\"\u001b[39m)\n\u001b[0;32m      5\u001b[0m \u001b[38;5;28;01mfor\u001b[39;00m i \u001b[38;5;129;01min\u001b[39;00m \u001b[38;5;28mrange\u001b[39m (\u001b[38;5;241m1\u001b[39m,\u001b[38;5;241m11\u001b[39m):\n",
      "\u001b[1;31mValueError\u001b[0m: invalid literal for int() with base 10: 'fdfv'"
     ]
    }
   ],
   "source": [
    "a = int(input(\"Enter your number\"))\n",
    "\n",
    "print(f\"Multiplication table of {a} is:\")\n",
    "\n",
    "for i in range (1,11):\n",
    "    print(f\"{int(a)} x {i} = {int(a)*i}\")\n",
    "\n",
    "\n",
    "print(\"some imp lines of code\")\n",
    "print(\"End of the Program\")"
   ]
  },
  {
   "cell_type": "code",
   "execution_count": 3,
   "metadata": {},
   "outputs": [
    {
     "name": "stdout",
     "output_type": "stream",
     "text": [
      "invalid literal for int() with base 10: 'sfds'\n",
      "some imp lines of code\n",
      "End of the Program\n"
     ]
    }
   ],
   "source": [
    "try:\n",
    "\n",
    "    a = int(input(\"Enter your number\"))\n",
    "    print(f\"Multiplication table of {a} is:\")\n",
    "\n",
    "    for i in range (1,11):\n",
    "        print(f\"{int(a)} x {i} = {int(a)*i}\")\n",
    "except Exception as e:\n",
    "    print(e)\n",
    "\n",
    "\n",
    "print(\"some imp lines of code\")\n",
    "print(\"End of the Program\")"
   ]
  },
  {
   "cell_type": "code",
   "execution_count": 2,
   "metadata": {},
   "outputs": [
    {
     "name": "stdout",
     "output_type": "stream",
     "text": [
      "Invalid Input\n",
      "some imp lines of code\n",
      "End of the Program\n"
     ]
    }
   ],
   "source": [
    "try:\n",
    "\n",
    "    a = int(input(\"Enter your number\"))\n",
    "    print(f\"Multiplication table of {a} is:\")\n",
    "\n",
    "    for i in range (1,11):\n",
    "        print(f\"{int(a)} x {i} = {int(a)*i}\")\n",
    "except :\n",
    "    print(\"Invalid Input\")\n",
    "\n",
    "\n",
    "print(\"some imp lines of code\")\n",
    "print(\"End of the Program\")"
   ]
  },
  {
   "cell_type": "code",
   "execution_count": null,
   "metadata": {},
   "outputs": [],
   "source": []
  }
 ],
 "metadata": {
  "kernelspec": {
   "display_name": "base",
   "language": "python",
   "name": "python3"
  },
  "language_info": {
   "codemirror_mode": {
    "name": "ipython",
    "version": 3
   },
   "file_extension": ".py",
   "mimetype": "text/x-python",
   "name": "python",
   "nbconvert_exporter": "python",
   "pygments_lexer": "ipython3",
   "version": "3.11.4"
  }
 },
 "nbformat": 4,
 "nbformat_minor": 2
}
