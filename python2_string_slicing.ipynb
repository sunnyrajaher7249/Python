{
 "cells": [
  {
   "cell_type": "markdown",
   "metadata": {},
   "source": [
    "## Strings slicing and operations on string\n"
   ]
  },
  {
   "cell_type": "code",
   "execution_count": 2,
   "metadata": {},
   "outputs": [],
   "source": [
    "name = \"Sunnyraj, Sunny\"\n"
   ]
  },
  {
   "cell_type": "code",
   "execution_count": 6,
   "metadata": {},
   "outputs": [
    {
     "name": "stdout",
     "output_type": "stream",
     "text": [
      "15\n",
      "Sunnyraj\n",
      "nnyraj, Sunny\n",
      "Sunnyraj, Sunny\n"
     ]
    }
   ],
   "source": [
    "print(len(name))\n",
    "print(name[0:8]) # Excluding last index\n",
    "print(name[2:]) # Slicing till end\n",
    "print(name[:])  #It considers all "
   ]
  },
  {
   "cell_type": "code",
   "execution_count": 12,
   "metadata": {},
   "outputs": [
    {
     "name": "stdout",
     "output_type": "stream",
     "text": [
      "ar\n",
      "5\n",
      "ar\n"
     ]
    }
   ],
   "source": [
    "nm = \"Harry\"\n",
    "print(nm[-4:-2])  # print(nm[len(nm)-4 : len(nm)-2])\n",
    "print(len(nm))\n",
    "print(nm[len(nm)-4: len(nm)-2])"
   ]
  },
  {
   "cell_type": "code",
   "execution_count": 20,
   "metadata": {},
   "outputs": [
    {
     "name": "stdout",
     "output_type": "stream",
     "text": [
      "ar\n",
      "ar\n"
     ]
    }
   ],
   "source": [
    "print(nm[-4:-2])  # It means print (5-4):(5-2)\n",
    "print(nm[1:3])"
   ]
  },
  {
   "cell_type": "markdown",
   "metadata": {},
   "source": [
    "## string Methods"
   ]
  },
  {
   "cell_type": "code",
   "execution_count": 23,
   "metadata": {},
   "outputs": [],
   "source": [
    "name = \"Sunnyraj\""
   ]
  },
  {
   "cell_type": "code",
   "execution_count": 27,
   "metadata": {},
   "outputs": [
    {
     "name": "stdout",
     "output_type": "stream",
     "text": [
      "8\n",
      "SUNNYRAJ\n",
      "sunnyraj\n"
     ]
    }
   ],
   "source": [
    "print(len(name))\n",
    "print(name.upper())\n",
    "print(name.lower())"
   ]
  },
  {
   "cell_type": "code",
   "execution_count": 41,
   "metadata": {},
   "outputs": [
    {
     "name": "stdout",
     "output_type": "stream",
     "text": [
      "sunnYraj!!!! Aher!!!\n",
      "sunnYraj!!!! Aher\n"
     ]
    }
   ],
   "source": [
    "str = \"sunnYraj!!!! Aher!!!\"\n",
    "print(str)\n",
    "print(str.rstrip(\"!\"))"
   ]
  },
  {
   "cell_type": "code",
   "execution_count": 42,
   "metadata": {},
   "outputs": [
    {
     "name": "stdout",
     "output_type": "stream",
     "text": [
      "raj!!!! Aher!!!\n"
     ]
    }
   ],
   "source": [
    "## Replace   \n",
    "\n",
    "print(str.replace(\"sunnYraj\", \"raj\"))"
   ]
  },
  {
   "cell_type": "code",
   "execution_count": 49,
   "metadata": {},
   "outputs": [
    {
     "name": "stdout",
     "output_type": "stream",
     "text": [
      "sunnYraj!!!!+Aher!!!\n",
      "Sunnyraj!!!! aher!!!\n"
     ]
    }
   ],
   "source": [
    "## Split\n",
    "print(str.replace(\" \", \"+\" ))\n",
    "print(str.capitalize())  # FIRST LETTER IS CAPITAL"
   ]
  },
  {
   "cell_type": "code",
   "execution_count": 77,
   "metadata": {},
   "outputs": [
    {
     "name": "stdout",
     "output_type": "stream",
     "text": [
      "    Welcome to   india   \n",
      "18\n",
      "1\n",
      "True\n",
      "False\n",
      "False\n",
      "False\n",
      "False\n",
      "False\n",
      "Welcome To   India\n",
      "wELCOME TO   INDIA\n"
     ]
    }
   ],
   "source": [
    "str1 = \"Welcome to   india\"\n",
    "print(str1.center(25))\n",
    "print(len(str1))\n",
    "print(str1.count(\"to\"))\n",
    "print(str1.endswith(\"a\"))\n",
    "print(str1.isalnum())  # A-Z, a-z, 0-9\n",
    "print(str1.isalpha())  # A-Z, a-z\n",
    "print(str1.islower())\n",
    "print(str1.isspace())\n",
    "print(str1.istitle())\n",
    "print(str1.title())\n",
    "print(str1.swapcase())"
   ]
  },
  {
   "cell_type": "code",
   "execution_count": 75,
   "metadata": {},
   "outputs": [
    {
     "name": "stdout",
     "output_type": "stream",
     "text": [
      "True\n"
     ]
    }
   ],
   "source": [
    "strin = \"   \"\n",
    "print(strin.isspace())"
   ]
  },
  {
   "cell_type": "code",
   "execution_count": null,
   "metadata": {},
   "outputs": [],
   "source": []
  }
 ],
 "metadata": {
  "kernelspec": {
   "display_name": "base",
   "language": "python",
   "name": "python3"
  },
  "language_info": {
   "codemirror_mode": {
    "name": "ipython",
    "version": 3
   },
   "file_extension": ".py",
   "mimetype": "text/x-python",
   "name": "python",
   "nbconvert_exporter": "python",
   "pygments_lexer": "ipython3",
   "version": "3.11.4"
  }
 },
 "nbformat": 4,
 "nbformat_minor": 2
}
