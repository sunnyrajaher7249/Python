{
 "cells": [
  {
   "cell_type": "markdown",
   "metadata": {},
   "source": [
    "# Introduction to Object-oriented programming\n",
    "Introduction to Object-Oriented Programming in Python: In programming languages, mainly there are two approaches that are used to write program or code.\n",
    "\n",
    "+ 1). Procedural Programming\n",
    "+ 2). Object-Oriented Programming\n",
    "The procedure we are following till now is the “Procedural Programming” approach. So, in this session, we will learn about Object Oriented Programming (OOP). The basic idea of object-oriented programming (OOP) in Python is to use classes and objects to represent real-world concepts and entities.\n",
    "\n",
    "A class is a blueprint or template for creating objects. It defines the properties and methods that an object of that class will have. Properties are the data or state of an object, and methods are the actions or behaviors that an object can perform.\n",
    "\n",
    "An object is an instance of a class, and it contains its own data and methods. For example, you could create a class called \"Person\" that has properties such as name and age, and methods such as speak() and walk(). Each instance of the Person class would be a unique object with its own name and age, but they would all have the same methods to speak and walk.\n",
    "\n",
    "One of the key features of OOP in Python is encapsulation, which means that the internal state of an object is hidden and can only be accessed or modified through the object's methods. This helps to protect the object's data and prevent it from being modified in unexpected ways.\n",
    "\n",
    "Another key feature of OOP in Python is inheritance, which allows new classes to be created that inherit the properties and methods of an existing class. This allows for code reuse and makes it easy to create new classes that have similar functionality to existing classes.\n",
    "\n",
    "Polymorphism is also supported in Python, which means that objects of different classes can be treated as if they were objects of a common class. This allows for greater flexibility in code and makes it easier to write code that can work with multiple types of objects.\n",
    "\n",
    "In summary, OOP in Python allows developers to model real-world concepts and entities using classes and objects, encapsulate data, reuse code through inheritance, and write more flexible code through polymorphism."
   ]
  },
  {
   "cell_type": "markdown",
   "metadata": {},
   "source": []
  },
  {
   "cell_type": "markdown",
   "metadata": {},
   "source": [
    "RailwayForm   ---> Class [blueprint]\n",
    "harry --> harry ki info wala form --> Object [entity]\n",
    "tom --> tom ki info wala form --> Object [entity]\n",
    "shubham -- shubham ki info wala form --> Object [entity]\n",
    "+ shubham.changeName(\"Shubhi\")\n",
    "\n",
    "eg = if i have a cycle and I can extend it by adding an engine then it will become a bike,  like u dont have to start it from beginning or re-invent something"
   ]
  },
  {
   "cell_type": "markdown",
   "metadata": {},
   "source": []
  },
  {
   "cell_type": "markdown",
   "metadata": {},
   "source": [
    "+ understand what i am saying, try to make a sence,\n",
    "+ when u will write a code u will understand"
   ]
  },
  {
   "cell_type": "markdown",
   "metadata": {},
   "source": []
  }
 ],
 "metadata": {
  "kernelspec": {
   "display_name": "base",
   "language": "python",
   "name": "python3"
  },
  "language_info": {
   "name": "python",
   "version": "3.11.4"
  }
 },
 "nbformat": 4,
 "nbformat_minor": 2
}
