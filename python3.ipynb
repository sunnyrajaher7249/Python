{
 "cells": [
  {
   "cell_type": "markdown",
   "metadata": {},
   "source": [
    "## If else statement"
   ]
  },
  {
   "cell_type": "code",
   "execution_count": 5,
   "metadata": {},
   "outputs": [
    {
     "name": "stdout",
     "output_type": "stream",
     "text": [
      "Your Age is: 84\n",
      "You can drive\n"
     ]
    }
   ],
   "source": [
    "a = int(input(\"Enter your age\"))\n",
    "print(\"Your Age is:\", a)\n",
    "\n",
    "if(a>18):\n",
    "    print(\"You can drive\")\n",
    "else:\n",
    "    print(\"You can not drive\")"
   ]
  },
  {
   "cell_type": "markdown",
   "metadata": {},
   "source": [
    "## elif"
   ]
  },
  {
   "cell_type": "code",
   "execution_count": 9,
   "metadata": {},
   "outputs": [
    {
     "name": "stdout",
     "output_type": "stream",
     "text": [
      "The number is positive\n"
     ]
    }
   ],
   "source": [
    "b = int(input(\"Enter your name\"))\n",
    "\n",
    "if (b<0):\n",
    "    print(\"The number is negative\")\n",
    "elif (b==0):\n",
    "    print(\"The number is zero\")\n",
    "else:\n",
    "    print(\"The number is positive\")"
   ]
  },
  {
   "cell_type": "markdown",
   "metadata": {},
   "source": [
    "## Nested condition"
   ]
  },
  {
   "cell_type": "code",
   "execution_count": 14,
   "metadata": {},
   "outputs": [
    {
     "name": "stdout",
     "output_type": "stream",
     "text": [
      "The number is zero\n"
     ]
    }
   ],
   "source": [
    "num = 0\n",
    "\n",
    "if (num < 0):\n",
    "    print(\"The number is negative\")\n",
    "elif (num > 0):\n",
    "    if (num <= 10):\n",
    "        print(\"The number is between 1-10\")\n",
    "    elif (num > 10 and num <=20):\n",
    "        print(\"The number is between 10 and 20\")\n",
    "    else:\n",
    "        print(\"The number is greater than 20\")\n",
    "else:\n",
    "    print(\"The number is zero\")"
   ]
  },
  {
   "cell_type": "code",
   "execution_count": 19,
   "metadata": {},
   "outputs": [
    {
     "name": "stdout",
     "output_type": "stream",
     "text": [
      "The no is between 1 and 10\n"
     ]
    }
   ],
   "source": [
    "no = 0\n",
    "\n",
    "if (no<0):\n",
    "    print(\"The no is negative\")\n",
    "elif (no>=0):\n",
    "    if (no <= 10):\n",
    "        print(\"The no is between 1 and 10\")\n",
    "    elif (no >=10 and no <=20):\n",
    "        print(\"The no is between 10 and 20\")\n",
    "    else:\n",
    "        print(\"The no is greater than 20\")\n",
    "else:\n",
    "    print(\"The numbe ris zero\")"
   ]
  },
  {
   "cell_type": "code",
   "execution_count": 1,
   "metadata": {},
   "outputs": [
    {
     "name": "stdout",
     "output_type": "stream",
     "text": [
      "Sunny, you can buy 1kg apple\n"
     ]
    }
   ],
   "source": [
    "apple_price = 50\n",
    "budget = 200\n",
    "\n",
    "if (budget - apple_price > 50):\n",
    "    print(\"Sunny, you can buy 1kg apple\")\n",
    "elif (budget - apple_price > 100):\n",
    "    print(\"Okay you can buy\")\n",
    "else:\n",
    "    print(\"you can not buy\")"
   ]
  },
  {
   "cell_type": "code",
   "execution_count": 10,
   "metadata": {},
   "outputs": [
    {
     "name": "stdout",
     "output_type": "stream",
     "text": [
      "0\n",
      "1\n",
      "2\n",
      "3\n",
      "4\n"
     ]
    }
   ],
   "source": [
    "x = 0 \n",
    "\n",
    "while (x < 5):\n",
    "    print(x)\n",
    "    x = x+1"
   ]
  },
  {
   "cell_type": "code",
   "execution_count": 15,
   "metadata": {},
   "outputs": [
    {
     "name": "stdout",
     "output_type": "stream",
     "text": [
      "0\n",
      "1\n",
      "2\n",
      "3\n",
      "4\n",
      "5\n",
      "6\n",
      "7\n",
      "8\n",
      "9\n"
     ]
    }
   ],
   "source": [
    "count = 0\n",
    "\n",
    "while (count <10):\n",
    "    print(count)\n",
    "    count = count+1"
   ]
  },
  {
   "cell_type": "code",
   "execution_count": 19,
   "metadata": {},
   "outputs": [
    {
     "name": "stdout",
     "output_type": "stream",
     "text": [
      "28\n",
      "Done with the loop\n"
     ]
    }
   ],
   "source": [
    "i = int(input(\"Enter your num\"))\n",
    "\n",
    "while (i <= 20):\n",
    "    i = int(input(\"Enter your num\"))\n",
    "    print(i)\n",
    "    \n",
    "print(\"Done with the loop\")"
   ]
  },
  {
   "cell_type": "code",
   "execution_count": null,
   "metadata": {},
   "outputs": [],
   "source": []
  }
 ],
 "metadata": {
  "kernelspec": {
   "display_name": "base",
   "language": "python",
   "name": "python3"
  },
  "language_info": {
   "codemirror_mode": {
    "name": "ipython",
    "version": 3
   },
   "file_extension": ".py",
   "mimetype": "text/x-python",
   "name": "python",
   "nbconvert_exporter": "python",
   "pygments_lexer": "ipython3",
   "version": "3.11.4"
  }
 },
 "nbformat": 4,
 "nbformat_minor": 2
}
