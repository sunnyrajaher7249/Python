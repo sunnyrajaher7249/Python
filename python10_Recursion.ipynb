{
 "cells": [
  {
   "cell_type": "markdown",
   "metadata": {},
   "source": [
    "# Recursion\n",
    "\n",
    "Recursion is the process of defining something in terms of itself\n",
    "\n",
    "A physical world example would be to place two parallel mirrors  facing each other, any object in between them would be reflected recursively.\n",
    "\n",
    "In python we know that A function can call a other function. It is even possible for the function to call itself. These type of construct are termed as recursive functions."
   ]
  },
  {
   "cell_type": "code",
   "execution_count": 1,
   "metadata": {},
   "outputs": [],
   "source": [
    "# factorial(7) = 7*6*5*4*3*2*1\n",
    "# factorial(6) = 6*5*4*3*2*1\n",
    "# factorial(5) = 5*4*3*2*1\n",
    "# factorial(4) = 4*3*2*1\n",
    "# factorial(3) = 3*2*1\n",
    "\n",
    "# factorial(n) = n * factorial(n-1) ...if i want factorial of 7 then I can write it as 7 * fac(6)....\n",
    "# so can I use this to create recursive fun\n",
    "\n",
    "def factorial(n):\n",
    "    if(n==0 or n==1):\n",
    "        return 1 \n",
    "    else:\n",
    "        return n * factorial(n-1)\n",
    "    \n",
    "    # so will it be able to calculate this... I used factorial fun inside the fac fun itself..\n",
    "    # the answer is yes\n"
   ]
  },
  {
   "cell_type": "code",
   "execution_count": null,
   "metadata": {},
   "outputs": [
    {
     "name": "stdout",
     "output_type": "stream",
     "text": [
      "6\n",
      "24\n",
      "120\n"
     ]
    }
   ],
   "source": [
    "print(factorial(3))\n",
    "print(factorial(4))\n",
    "print(factorial(5))\n",
    "\n",
    "# 5 * factorial(4)\n",
    "# 4 * 2 * factorial(1)"
   ]
  },
  {
   "cell_type": "markdown",
   "metadata": {},
   "source": [
    "# Fibonacci Series in Python\n",
    "\n",
    "* What is the Fibonacci Series?\n",
    "* The Fibonacci series is a sequence of numbers where each number is the sum of the two preceding ones. The series starts with:\n",
    "* F(0)=0,F(1)=1\n",
    "* F(n)=F(n−1)+F(n−2) for n≥2\n",
    "\n",
    "* 0 1 1 2 3 5 8 13 21 34 "
   ]
  },
  {
   "cell_type": "code",
   "execution_count": 3,
   "metadata": {},
   "outputs": [
    {
     "name": "stdout",
     "output_type": "stream",
     "text": [
      "0 1 1 2 3 5 8 13 21 34 "
     ]
    }
   ],
   "source": [
    "def fibonacci_recursive(n):\n",
    "    \"\"\"\n",
    "    Calculates the nth Fibonacci number using recursion.\n",
    "\n",
    "    Parameters:\n",
    "    n (int): The position in the Fibonacci series.\n",
    "\n",
    "    Returns:\n",
    "    int: The nth Fibonacci number.\n",
    "    \"\"\"\n",
    "    if n <= 0:\n",
    "        return 0\n",
    "    elif n == 1:\n",
    "        return 1\n",
    "    else:\n",
    "        return fibonacci_recursive(n - 1) + fibonacci_recursive(n - 2)\n",
    "\n",
    "# Print first 10 Fibonacci numbers\n",
    "for i in range(10):\n",
    "    print(fibonacci_recursive(i), end=\" \")\n"
   ]
  },
  {
   "cell_type": "code",
   "execution_count": null,
   "metadata": {},
   "outputs": [],
   "source": []
  }
 ],
 "metadata": {
  "kernelspec": {
   "display_name": "base",
   "language": "python",
   "name": "python3"
  },
  "language_info": {
   "codemirror_mode": {
    "name": "ipython",
    "version": 3
   },
   "file_extension": ".py",
   "mimetype": "text/x-python",
   "name": "python",
   "nbconvert_exporter": "python",
   "pygments_lexer": "ipython3",
   "version": "3.11.4"
  }
 },
 "nbformat": 4,
 "nbformat_minor": 2
}
